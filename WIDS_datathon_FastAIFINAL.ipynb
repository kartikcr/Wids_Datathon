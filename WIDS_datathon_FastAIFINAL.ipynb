{
  "cells": [
    {
      "metadata": {
        "_uuid": "8f2839f25d086af736a60e9eeb907d3b93b6e0e5",
        "_cell_guid": "b1076dfc-b9ad-4769-8c92-a6c4dae69d19",
        "trusted": true
      },
      "cell_type": "code",
      "source": "# This Python 3 environment comes with many helpful analytics libraries installed\n# It is defined by the kaggle/python docker image: https://github.com/kaggle/docker-python\n# For example, here's several helpful packages to load in \n\nimport numpy as np # linear algebra\nimport pandas as pd # data processing, CSV file I/O (e.g. pd.read_csv)\n# Input data files are available in the \"../input/\" directory.\n# For example, running this (by clicking run or pressing Shift+Enter) will list the files in the input directory\n\nimport os\nprint(os.listdir(\"../input\"))\nfrom sklearn.metrics import roc_auc_score\n\nimport fastai\nfrom fastai.vision import *\n\n# Any results you write to the current directory are saved as output.",
      "execution_count": null,
      "outputs": []
    },
    {
      "metadata": {
        "_cell_guid": "79c7e3d0-c299-4dcb-8224-4455121ee9b0",
        "_uuid": "d629ff2d2480ee46fbb7e2d37f6b5fab8052498a",
        "trusted": true
      },
      "cell_type": "code",
      "source": "df = pd.read_csv('../input/traininglabels.csv')\ndf_sample = pd.read_csv('../input/SampleSubmission.csv')\ndf[df['score']<0.75]",
      "execution_count": null,
      "outputs": []
    },
    {
      "metadata": {
        "trusted": true,
        "_uuid": "1f8a5673fcfd0d8f22a1c0360c5c426ed60a00e5"
      },
      "cell_type": "code",
      "source": "test = Path('../input/leaderboard_test_data/leaderboard_test_data')\nholdout = Path('../input/leaderboard_holdout_data/leaderboard_holdout_data')\ntest_names = [f for f in test.iterdir()]\nholdout_names = [f for f in holdout.iterdir()]",
      "execution_count": null,
      "outputs": []
    },
    {
      "metadata": {
        "trusted": true,
        "_uuid": "583e18b4197d7c368c3903b980f04ab922a84c25"
      },
      "cell_type": "code",
      "source": "src = (ImageItemList.from_df(df, '../input/', folder='train_images/train_images')\n      .random_split_by_pct(0.2, seed=50)\n      .label_from_df('has_oilpalm')\n      .add_test(test_names+holdout_names))\n\n#split = 0.2, seed = 2019",
      "execution_count": null,
      "outputs": []
    },
    {
      "metadata": {
        "trusted": true,
        "_uuid": "f7b01af8a4eeff34e826527cbb092289fe174fe7"
      },
      "cell_type": "code",
      "source": "data =  (src.transform(get_transforms(), size=128)\n         .databunch(bs=64)\n         .normalize(imagenet_stats))",
      "execution_count": null,
      "outputs": []
    },
    {
      "metadata": {
        "trusted": true,
        "_uuid": "03e3f5b687fd1e81b9f6e6b0d694d76886347f72"
      },
      "cell_type": "code",
      "source": "from sklearn.metrics import roc_auc_score\ndef auc_score(preds,targets):\n    return torch.tensor(roc_auc_score(t,p[:,1]))",
      "execution_count": null,
      "outputs": []
    },
    {
      "metadata": {
        "trusted": true,
        "_uuid": "dabb630003d95456f4e4b0f0b7ed1acc3096929d"
      },
      "cell_type": "code",
      "source": "learn = create_cnn(data, models.resnet50, \n                   metrics=[accuracy,auc_score],\n                   model_dir='/kaggle/working/models')",
      "execution_count": null,
      "outputs": []
    },
    {
      "metadata": {
        "trusted": true,
        "_uuid": "522d7c4b6da1f7af85d4cf92cbc434cc28c04c0d"
      },
      "cell_type": "code",
      "source": "learn.lr_find(); learn.recorder.plot()\nlr = 1e-2\nlearn.fit_one_cycle(6, lr)\nlearn.unfreeze()\nlearn.fit_one_cycle(3, slice(1e-4, 1e-3))\nlearn.save('128')\np,t = learn.get_preds()\n#auc_score(p,t)\n",
      "execution_count": null,
      "outputs": []
    },
    {
      "metadata": {
        "trusted": true,
        "_uuid": "57f760607664a86368f66e08dafd2c024440fa32"
      },
      "cell_type": "code",
      "source": "interp = ClassificationInterpretation.from_learner(learn)\nlosses,idxs = interp.top_losses()",
      "execution_count": null,
      "outputs": []
    },
    {
      "metadata": {
        "trusted": true,
        "_uuid": "f72f3a78fa0096c52af335bc6ae278f9ec96bf07"
      },
      "cell_type": "code",
      "source": "#interp.plot_top_losses(9, figsize=(15,11))",
      "execution_count": null,
      "outputs": []
    },
    {
      "metadata": {
        "trusted": true,
        "_uuid": "010b0482600760385af36f7915824ec41b7a397b"
      },
      "cell_type": "code",
      "source": "p,t = learn.get_preds(ds_type=DatasetType.Test)\np = to_np(p);\n\n#check with p.shape\n\nids = np.array([f.name for f in (test_names+holdout_names)]);ids.shape\nanswerdf = pd.DataFrame(np.stack([ids, p[:,1]], axis=1), columns=df_sample.columns)\nanswerdf.to_csv('SubmFastAiResnet50_v2.csv', index=False)",
      "execution_count": null,
      "outputs": []
    },
    {
      "metadata": {
        "trusted": true,
        "_uuid": "dc885e83d9fe0583053bb8fc06b7d4dfa08d0b8b"
      },
      "cell_type": "code",
      "source": "",
      "execution_count": null,
      "outputs": []
    },
    {
      "metadata": {
        "trusted": true,
        "_uuid": "517f3adaeab83ea14401bd5f65f472d23529ed39"
      },
      "cell_type": "code",
      "source": "",
      "execution_count": null,
      "outputs": []
    },
    {
      "metadata": {
        "trusted": true,
        "_uuid": "fa423c67b2acbabe89bde385a69cf6a416f34fe8"
      },
      "cell_type": "code",
      "source": "",
      "execution_count": null,
      "outputs": []
    },
    {
      "metadata": {
        "trusted": true,
        "_uuid": "cd78774952acf031a95158489f92cb3436d7354d"
      },
      "cell_type": "code",
      "source": "",
      "execution_count": null,
      "outputs": []
    },
    {
      "metadata": {
        "trusted": true,
        "_uuid": "b1074b7959a016bd4f95b4cec15e9c906fb0ac0e"
      },
      "cell_type": "code",
      "source": "",
      "execution_count": null,
      "outputs": []
    }
  ],
  "metadata": {
    "kernelspec": {
      "display_name": "Python 3",
      "language": "python",
      "name": "python3"
    },
    "language_info": {
      "name": "python",
      "version": "3.6.6",
      "mimetype": "text/x-python",
      "codemirror_mode": {
        "name": "ipython",
        "version": 3
      },
      "pygments_lexer": "ipython3",
      "nbconvert_exporter": "python",
      "file_extension": ".py"
    }
  },
  "nbformat": 4,
  "nbformat_minor": 1
}